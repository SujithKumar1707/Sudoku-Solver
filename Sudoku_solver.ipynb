{
 "cells": [
  {
   "cell_type": "markdown",
   "id": "522fc4a9",
   "metadata": {},
   "source": [
    "# SOLVING SUDOKU\n",
    "\n"
   ]
  },
  {
   "cell_type": "markdown",
   "id": "28803a78",
   "metadata": {},
   "source": [
    "## How to run the code and save your work\n",
    "\n",
    "The recommended way to run this notebook is to click the \"Run\" button at the top of this page, and select \"Run on Binder\". This will run the notebook on [mybinder.org](https://mybinder.org), a free online service for running Jupyter notebooks. \n",
    "\n",
    "This tutorial is an executable [Jupyter notebook](https://jupyter.org). You can _run_ this tutorial and experiment with the code examples in a couple of ways: *using free online resources* (recommended) or *on your computer*.\n",
    "\n",
    "#### Option 1: Running using free online resources (1-click, recommended)\n",
    "\n",
    "The easiest way to start executing the code is to click the **Run** button at the top of this page and select **Run on Binder**. You can also select \"Run on Colab\" or \"Run on Kaggle\", but you'll need to create an account on [Google Colab](https://colab.research.google.com) or [Kaggle](https://kaggle.com) to use these platforms.\n",
    "\n",
    "\n",
    "#### Option 2: Running on your computer locally\n",
    "\n",
    "To run the code on your computer locally, you'll need to set up [Python](https://www.python.org), download the notebook and install the required libraries. We recommend using the [Conda](https://docs.conda.io/projects/conda/en/latest/user-guide/install/) distribution of Python. Click the **Run** button at the top of this page, select the **Run Locally** option, and follow the instructions.\n",
    "\n",
    "#### Saving your work\n",
    "\n",
    "Before staring the assignment, let's save a snapshot of the assignment to your [Jovian](https://jovian.ai) profile, so that you can access it later, and continue your work."
   ]
  },
  {
   "cell_type": "code",
   "execution_count": 1,
   "id": "14a86f76",
   "metadata": {},
   "outputs": [],
   "source": [
    "project_name = \"SOLVING SUDOKU\" # give it an appropriate name"
   ]
  },
  {
   "cell_type": "code",
   "execution_count": 2,
   "id": "63bea0ac",
   "metadata": {},
   "outputs": [],
   "source": [
    "!pip install jovian --upgrade --quiet"
   ]
  },
  {
   "cell_type": "code",
   "execution_count": 3,
   "id": "6f7d5abf",
   "metadata": {},
   "outputs": [],
   "source": [
    "import jovian"
   ]
  },
  {
   "cell_type": "code",
   "execution_count": 4,
   "id": "11d96f1d",
   "metadata": {},
   "outputs": [
    {
     "data": {
      "application/javascript": [
       "window.require && require([\"base/js/namespace\"],function(Jupyter){Jupyter.notebook.save_checkpoint()})"
      ],
      "text/plain": [
       "<IPython.core.display.Javascript object>"
      ]
     },
     "metadata": {},
     "output_type": "display_data"
    },
    {
     "name": "stdout",
     "output_type": "stream",
     "text": [
      "[jovian] Creating a new project \"sujithkumar1707/SOLVING SUDOKU\"\u001b[0m\n",
      "[jovian] Committed successfully! https://jovian.ai/sujithkumar1707/solving-sudoku\u001b[0m\n"
     ]
    },
    {
     "data": {
      "text/plain": [
       "'https://jovian.ai/sujithkumar1707/solving-sudoku'"
      ]
     },
     "execution_count": 4,
     "metadata": {},
     "output_type": "execute_result"
    }
   ],
   "source": [
    "jovian.commit(project=project_name)"
   ]
  },
  {
   "cell_type": "markdown",
   "id": "6637a275",
   "metadata": {},
   "source": [
    "## Problem Statement\n",
    "\n",
    "For this project, I am going to implement a Sudoku solver. This is considered a *hard* problem on the LeetCode website. From my research into Sudoku, this is considered to be an NP-Complete problem. Being very brief, an NP-Complete problem is a problem which can be solved with a brute force algorithm, however there is no known way to find a solution quickly. This means that the way to approach the problem and solve quicker than brute force is to use heuristics and approximation algorithms. More information on NP-Completeness can be found at the Wikipedia link in the sources.\n",
    ">\n",
    "> Write a program to solve a Sudoku puzzle by filling the empty cells.\n",
    ">\n",
    "> A sudoku solution must satisfy all of the following rules:\n",
    ">\n",
    ">     Each of the digits 1-9 must occur exactly once in each row.\n",
    ">     Each of the digits 1-9 must occur exactly once in each column.\n",
    ">     Each of the digits 1-9 must occur exactly once in each of the 9 3x3 sub-boxes of the grid.\n",
    ">\n",
    "> The '.' character indicates empty cells.\n",
    "> \n",
    "> For the sudoku solver, I will be given a string representing a Sudoku puzzle. The strings will look like:\n",
    "`'5..91372.3...8.5.9.9.25..8.68.47.23...95..46.7.4.....5.2.......4..8916..85.72...3'` which represents the Sudoku grid below:\n",
    "\n",
    "\n",
    "<div style=\"text-align:center;display:inline\">\n",
    "    <table style=\"border: 3px solid;border-spacing: 0;font-size:24px;\">\n",
    "        <tbody>\n",
    "        <tr>\n",
    "            <td style=\"border: 1px solid;padding: 0.3em;\">5</td>\n",
    "            <td style=\"border: 1px solid;padding: 0.3em;\"> </td>\n",
    "            <td style=\"border: 1px solid;padding: 0.3em;border-right: 3px solid;\"> </td>\n",
    "            <td style=\"border: 1px solid;padding: 0.3em;\">9</td>\n",
    "            <td style=\"border: 1px solid;padding: 0.3em;\">1</td>\n",
    "            <td style=\"border: 1px solid;padding: 0.3em;border-right: 3px solid;\">3</td>\n",
    "            <td style=\"border: 1px solid;padding: 0.3em;\">7</td>\n",
    "            <td style=\"border: 1px solid;padding: 0.3em;\">2</td>\n",
    "            <td style=\"border: 1px solid;padding: 0.3em;\"> </td>\n",
    "        </tr>\n",
    "        <tr>\n",
    "            <td style=\"border: 1px solid;padding: 0.3em;\">3</td>\n",
    "            <td style=\"border: 1px solid;padding: 0.3em;\"> </td>\n",
    "            <td style=\"border: 1px solid;padding: 0.3em;border-right: 3px solid;\"> </td>\n",
    "            <td style=\"border: 1px solid;padding: 0.3em;\"> </td>\n",
    "            <td style=\"border: 1px solid;padding: 0.3em;\">8</td>\n",
    "            <td style=\"border: 1px solid;padding: 0.3em;border-right: 3px solid;\"> </td>\n",
    "            <td style=\"border: 1px solid;padding: 0.3em;\">5</td>\n",
    "            <td style=\"border: 1px solid;padding: 0.3em;\"> </td>\n",
    "            <td style=\"border: 1px solid;padding: 0.3em;\">9</td>\n",
    "        </tr>\n",
    "        <tr>\n",
    "            <td style=\"border: 1px solid;padding: 0.3em;border-bottom: 3px solid;\"> </td>\n",
    "            <td style=\"border: 1px solid;padding: 0.3em;border-bottom: 3px solid;\">9</td>\n",
    "            <td style=\"border: 1px solid;padding: 0.3em;border-bottom: 3px solid;border-right: 3px solid;\"> </td>\n",
    "            <td style=\"border: 1px solid;padding: 0.3em;border-bottom: 3px solid;\">2</td>\n",
    "            <td style=\"border: 1px solid;padding: 0.3em;border-bottom: 3px solid;\">5</td>\n",
    "            <td style=\"border: 1px solid;padding: 0.3em;border-bottom: 3px solid;border-right: 3px solid;\"> </td>\n",
    "            <td style=\"border: 1px solid;padding: 0.3em;border-bottom: 3px solid;\"> </td>\n",
    "            <td style=\"border: 1px solid;padding: 0.3em;border-bottom: 3px solid;\">8</td>\n",
    "            <td style=\"border: 1px solid;padding: 0.3em;border-bottom: 3px solid;\"> </td>\n",
    "        </tr>\n",
    "        <tr>\n",
    "            <td style=\"border: 1px solid;padding: 0.3em;\">6</td>\n",
    "            <td style=\"border: 1px solid;padding: 0.3em;\">8</td>\n",
    "            <td style=\"border: 1px solid;padding: 0.3em;border-right: 3px solid;\"> </td>\n",
    "            <td style=\"border: 1px solid;padding: 0.3em;\">4</td>\n",
    "            <td style=\"border: 1px solid;padding: 0.3em;\">7</td>\n",
    "            <td style=\"border: 1px solid;padding: 0.3em;border-right: 3px solid;\"> </td>\n",
    "            <td style=\"border: 1px solid;padding: 0.3em;\">2</td>\n",
    "            <td style=\"border: 1px solid;padding: 0.3em;\">3</td>\n",
    "            <td style=\"border: 1px solid;padding: 0.3em;\"> </td>\n",
    "        </tr>\n",
    "        <tr>\n",
    "            <td style=\"border: 1px solid;padding: 0.3em;\"> </td>\n",
    "            <td style=\"border: 1px solid;padding: 0.3em;\"> </td>\n",
    "            <td style=\"border: 1px solid;padding: 0.3em;border-right: 3px solid;\">9</td>\n",
    "            <td style=\"border: 1px solid;padding: 0.3em;\">5</td>\n",
    "            <td style=\"border: 1px solid;padding: 0.3em;\"> </td>\n",
    "            <td style=\"border: 1px solid;padding: 0.3em;border-right: 3px solid;\"> </td>\n",
    "            <td style=\"border: 1px solid;padding: 0.3em;\">4</td>\n",
    "            <td style=\"border: 1px solid;padding: 0.3em;\">6</td>\n",
    "            <td style=\"border: 1px solid;padding: 0.3em;\"> </td>\n",
    "        </tr>\n",
    "        <tr>\n",
    "            <td style=\"border: 1px solid;padding: 0.3em;border-bottom: 3px solid;\">7</td>\n",
    "            <td style=\"border: 1px solid;padding: 0.3em;border-bottom: 3px solid;\"> </td>\n",
    "            <td style=\"border: 1px solid;padding: 0.3em;border-bottom: 3px solid;border-right: 3px solid;\">4</td>\n",
    "            <td style=\"border: 1px solid;padding: 0.3em;border-bottom: 3px solid;\"> </td>\n",
    "            <td style=\"border: 1px solid;padding: 0.3em;border-bottom: 3px solid;\"> </td>\n",
    "            <td style=\"border: 1px solid;padding: 0.3em;border-bottom: 3px solid;border-right: 3px solid;\"> </td>\n",
    "            <td style=\"border: 1px solid;padding: 0.3em;border-bottom: 3px solid;\"> </td>\n",
    "            <td style=\"border: 1px solid;padding: 0.3em;border-bottom: 3px solid;\"> </td>\n",
    "            <td style=\"border: 1px solid;padding: 0.3em;border-bottom: 3px solid;\">5</td>\n",
    "        </tr>\n",
    "        <tr>\n",
    "            <td style=\"border: 1px solid;padding: 0.3em;\"> </td>\n",
    "            <td style=\"border: 1px solid;padding: 0.3em;\">2</td>\n",
    "            <td style=\"border: 1px solid;padding: 0.3em;border-right: 3px solid;\"> </td>\n",
    "            <td style=\"border: 1px solid;padding: 0.3em;\"> </td>\n",
    "            <td style=\"border: 1px solid;padding: 0.3em;\"> </td>\n",
    "            <td style=\"border: 1px solid;padding: 0.3em;border-right: 3px solid;\"> </td>\n",
    "            <td style=\"border: 1px solid;padding: 0.3em;\"> </td>\n",
    "            <td style=\"border: 1px solid;padding: 0.3em;\"> </td>\n",
    "            <td style=\"border: 1px solid;padding: 0.3em;\"> </td>\n",
    "        </tr>\n",
    "        <tr>\n",
    "            <td style=\"border: 1px solid;padding: 0.3em;\">4</td>\n",
    "            <td style=\"border: 1px solid;padding: 0.3em;\"> </td>\n",
    "            <td style=\"border: 1px solid;padding: 0.3em;border-right: 3px solid;\"> </td>\n",
    "            <td style=\"border: 1px solid;padding: 0.3em;\">8</td>\n",
    "            <td style=\"border: 1px solid;padding: 0.3em;\">9</td>\n",
    "            <td style=\"border: 1px solid;padding: 0.3em;border-right: 3px solid;\">1</td>\n",
    "            <td style=\"border: 1px solid;padding: 0.3em;\">6</td>\n",
    "            <td style=\"border: 1px solid;padding: 0.3em;\"> </td>\n",
    "            <td style=\"border: 1px solid;padding: 0.3em;\"> </td>\n",
    "        </tr>\n",
    "        <tr>\n",
    "            <td style=\"border: 1px solid;padding: 0.3em;\">8</td>\n",
    "            <td style=\"border: 1px solid;padding: 0.3em;\">5</td>\n",
    "            <td style=\"border: 1px solid;padding: 0.3em;border-right: 3px solid;\"> </td>\n",
    "            <td style=\"border: 1px solid;padding: 0.3em;\">7</td>\n",
    "            <td style=\"border: 1px solid;padding: 0.3em;\">2</td>\n",
    "            <td style=\"border: 1px solid;padding: 0.3em;border-right: 3px solid;\"> </td>\n",
    "            <td style=\"border: 1px solid;padding: 0.3em;\"> </td>\n",
    "            <td style=\"border: 1px solid;padding: 0.3em;\"> </td>\n",
    "            <td style=\"border: 1px solid;padding: 0.3em;\">3</td>\n",
    "        </tr>\n",
    "        </tbody>\n",
    "    </table>\n",
    "</div>\n",
    "\n",
    "> I will then return a string of the same form representing the solution to the puzzle.\n",
    "\n",
    "\n",
    "Sources: - https://leetcode.com/problems/sudoku-solver/\n",
    "- https://www.freecodecamp.org/learn/quality-assurance/quality-assurance-projects/sudoku-solver"
   ]
  },
  {
   "cell_type": "markdown",
   "id": "de52b38e",
   "metadata": {},
   "source": [
    "## The Method\n",
    "\n",
    "Here's the systematic strategy we'll apply for solving problems:\n",
    "\n",
    "1. State the problem clearly. Identify the input & output formats.\n",
    "2. Come up with some example inputs & outputs. Try to cover all edge cases.\n",
    "3. Come up with a correct solution for the problem. State it in plain English.\n",
    "4. Implement the solution and test it using example inputs. Fix bugs, if any.\n",
    "5. Analyze the algorithm's complexity and identify inefficiencies, if any.\n",
    "6. Apply the right technique to overcome the inefficiency. Repeat steps 3 to 6.\n",
    "\n",
    "This approach is explained in detail in [Lesson 1](https://jovian.ai/learn/data-structures-and-algorithms-in-python/lesson/lesson-1-binary-search-linked-lists-and-complexity) of the course. Let's apply this approach step-by-step."
   ]
  },
  {
   "cell_type": "markdown",
   "id": "96f05f85",
   "metadata": {},
   "source": [
    "## Solution\n",
    "\n",
    "\n",
    "### 1. State the problem clearly. Identify the input & output formats.\n",
    "\n",
    "While this problem is stated clearly enough, it's always useful to try and express in your own words, in a way that makes it most clear for you. \n",
    "\n",
    "\n",
    "**Problem**\n",
    "\n",
    "> > For this problem I will be given a string that represents a **valid** Sudoku puzzle. I need to solve the puzzle and return a string representing the solved puzzle.  A puzzle string will be a string containing 81 characters with valid characters being 1-9 and '.' where '.' represents a space. A valid sudoku puzzle is a puzzle that has one and only one solution and meets the constraints that each digit 1-9 must appear in each row, column, and box once and only once.\n",
    "\n",
    "<br/>\n",
    "\n",
    "\n",
    "**Input**\n",
    "\n",
    "The input will be a string representing a Sudoku puzzle.\n",
    "\n",
    "1. `'53..7....6..195....98....6.8...6...34..8.3..17...2...6.6....28....419..5....8..79'`\n",
    "\n",
    "\n",
    "\n",
    "**Output**\n",
    "The output will be a string representing the solution to the Sudoku puzzle.\n",
    "\n",
    "1. `'534678912672195348198342567859761423426853791713924856961537284287419635345286179'`\n",
    "\n",
    "\n",
    "\n",
    "\n",
    "<br/>\n",
    "\n",
    "Based on the above, we can now create a signature of our function:"
   ]
  },
  {
   "cell_type": "code",
   "execution_count": 5,
   "id": "940c24ab",
   "metadata": {},
   "outputs": [],
   "source": [
    "def solve_sudoku(puzzle):\n",
    "    pass"
   ]
  },
  {
   "cell_type": "markdown",
   "id": "eebe0c89",
   "metadata": {},
   "source": [
    "Save and upload your work before continuing."
   ]
  },
  {
   "cell_type": "code",
   "execution_count": 6,
   "id": "f7179c2d",
   "metadata": {},
   "outputs": [],
   "source": [
    "import jovian"
   ]
  },
  {
   "cell_type": "code",
   "execution_count": 7,
   "id": "378d0d4b",
   "metadata": {},
   "outputs": [
    {
     "data": {
      "application/javascript": [
       "window.require && require([\"base/js/namespace\"],function(Jupyter){Jupyter.notebook.save_checkpoint()})"
      ],
      "text/plain": [
       "<IPython.core.display.Javascript object>"
      ]
     },
     "metadata": {},
     "output_type": "display_data"
    },
    {
     "name": "stdout",
     "output_type": "stream",
     "text": [
      "[jovian] Updating notebook \"sujithkumar1707/solving-sudoku\" on https://jovian.ai\u001b[0m\n",
      "[jovian] Committed successfully! https://jovian.ai/sujithkumar1707/solving-sudoku\u001b[0m\n"
     ]
    },
    {
     "data": {
      "text/plain": [
       "'https://jovian.ai/sujithkumar1707/solving-sudoku'"
      ]
     },
     "execution_count": 7,
     "metadata": {},
     "output_type": "execute_result"
    }
   ],
   "source": [
    "jovian.commit()"
   ]
  },
  {
   "cell_type": "markdown",
   "id": "8226dd46",
   "metadata": {},
   "source": [
    "### 2. Come up with some example inputs & outputs. Try to cover all edge cases.\n",
    "\n",
    "Our function should be able to handle any set of valid inputs we pass into it. Here's a list of some possible variations we might encounter:\n",
    "\n",
    "**Input**\n",
    "\n",
    "To generate my puzzle inputs and outputs, I used the Microsoft Sudoku App and generated a puzzle at each level of difficulty, I then used an existing solver to generate the answer to the puzzle. **Note:** the difficulty level is considered the level of difficulty for a human to solve using heuristics and logic. It does not neccessarily coorespond to how long it will take a computer to solve.\n",
    "\n",
    "\n",
    "1. Easy: `'8264.95..9.526784343715..626.19427.87925.361434..7125916489532758372419627.316485'`\n",
    "2. Medium: `'42....1833........6..3.4.257..15.4.69.2..75.8....6...75...16.422.6.4.8.18.4...76.'`\n",
    "3. Hard: `'9...8...2.869..475.5...6.9..251..8..7.8.236...1..6..2.873....4...9.........35.78.'`\n",
    "4. Expert: `'5.9...14....3.2.5...7....62394.85.....2.16........3..9..35...9...5..8.....6.39825'`\n",
    "5. Master: `'9.64....8.4.6..72......9........24.5.5..761..1.7..4...395.61...........66.89..3..'`\n",
    "6. Grandmaster: `'2.4.....1......4.63...2.8..7..2.831.....7.2...25.....86..9.....1..8.5.92.92..71..'`\n",
    "\n",
    "**Edge Cases**\n",
    "\n",
    "* The brute force bad case is a valid puzzle that has been designed to cause a brute force algorithm to take a long time to solve. \n",
    "* The invalid puzzle layout is not a valid puzzle as it violates one or more constraints for a Sudoku. \n",
    "* The unsolvable puzzle has a valid layout that does not violate any constraints, but is not a valid puzzle because it does not have a valid solution.\n",
    "* The multiple solutions puzzle is a valid layout that has multiple valid solutions which makes it not be a valid Sudoku puzzle.\n",
    "* The other edge cases are self-explanatory.\n",
    "\n",
    "7. Brute force bad case: `'1..2......65..48...7...69....4.......5...87..7...3..4.......6...8.....57..65.7.89'`\n",
    "8. Invalid Characters: `'826409500905267843437150062601942708792503614340071259164895327583724196270316485'`\n",
    "9. Invalid length: `'2.4.....1......4.63...2.8..7..2.831.....7.2...25.....86..9.....1..8.5.92.92..71'`\n",
    "10. Invalid puzzle layout: `'..9..5.1.85.42...2432......1...69.83.9.....6.62.71...9......1945....4.37.4.3..6..'`\n",
    "11. Unsolvable puzzle: `'234967815758.423696.9381...5.26..4.7.....41......98.23.....3.8...5.1......7......'`\n",
    "12. Multiple Solutions: `'..........1..2..3....................4..5..6....................7..8..9..........'`\n",
    "\n",
    "\n",
    "**Output**\n",
    "\n",
    "1. Easy: `'826439571915267843437158962651942738792583614348671259164895327583724196279316485'`\n",
    "2. Medium: `'429675183358291674671384925783152496962437518145968237597816342236749851814523769'`\n",
    "3. Hard: `'937584162286931475451276398625197834798423651314865927873612549569748213142359786'`\n",
    "4. Expert: `'529867143641392758837451962394785216752916384168243579283574691915628437476139825'`\n",
    "5. Master: `'916427538543618729782359641869132475254876193137594862395761284471283956628945317'`\n",
    "6. Grandmaster: `'284596731951783426376124859769258314813479265425361978638912547147835692592647183'`\n",
    "7. Brute Force bad case: `'139285476265974813478316925894752361653148792712639548527891634981463257346527189'`\n",
    "8. Invalid Characters: `'invalid characters`\n",
    "9. Invalid Length: `'invalid length'`\n",
    "10. Invalid puzzle layout: `'invalid layout'`\n",
    "11. Unsolvable puzzle: `'unsolvable'`\n",
    "12. Multiple solutions: `'multiple solutions'`\n",
    "\n",
    "\n",
    "We'll express our test cases as dictionaries, to test them easily. Each dictionary will contain 2 keys: `input` (a dictionary itself containing one key for each argument to the function and `output` (the expected result from the function). "
   ]
  },
  {
   "cell_type": "code",
   "execution_count": 8,
   "id": "db8c0b6d",
   "metadata": {},
   "outputs": [],
   "source": [
    "test = {\n",
    "    'input': {\n",
    "        'puzzle': '53..7....6..195....98....6.8...6...34..8.3..17...2...6.6....28....419..5....8..79'\n",
    "    },\n",
    "    'output': '534678912672195348198342567859761423426853791713924856961537284287419635345286179'\n",
    "}"
   ]
  },
  {
   "cell_type": "markdown",
   "id": "f137f200",
   "metadata": {},
   "source": [
    "Create one test case for each of the scenarios listed above. We'll store our test cases in an array called `tests`."
   ]
  },
  {
   "cell_type": "code",
   "execution_count": 9,
   "id": "ef322d38",
   "metadata": {},
   "outputs": [],
   "source": [
    "tests = []"
   ]
  },
  {
   "cell_type": "code",
   "execution_count": 10,
   "id": "e5c34c04",
   "metadata": {},
   "outputs": [],
   "source": [
    "tests.append(test)"
   ]
  },
  {
   "cell_type": "code",
   "execution_count": 11,
   "id": "84060b48",
   "metadata": {},
   "outputs": [],
   "source": [
    "tests.append({\n",
    "        'input': {\n",
    "        'puzzle': '8264.95..9.526784343715..626.19427.87925.361434..7125916489532758372419627.316485'\n",
    "    },\n",
    "    'output': '826439571915267843437158962651942738792583614348671259164895327583724196279316485'\n",
    "})"
   ]
  },
  {
   "cell_type": "code",
   "execution_count": 13,
   "id": "20de9fbe",
   "metadata": {},
   "outputs": [],
   "source": [
    "tests.append({\n",
    "    'input': {\n",
    "        'puzzle': '9...8...2.869..475.5...6.9..251..8..7.8.236...1..6..2.873....4...9.........35.78.'\n",
    "    },\n",
    "    'output': '937584162286931475451276398625197834798423651314865927873612549569748213142359786'\n",
    "})"
   ]
  },
  {
   "cell_type": "code",
   "execution_count": 14,
   "id": "bd11faab",
   "metadata": {},
   "outputs": [],
   "source": [
    "tests.append({\n",
    "    'input': {\n",
    "        'puzzle': '42....1833........6..3.4.257..15.4.69.2..75.8....6...75...16.422.6.4.8.18.4...76.'\n",
    "    },\n",
    "    'output': '429675183358291674671384925783152496962437518145968237597816342236749851814523769'\n",
    "})"
   ]
  },
  {
   "cell_type": "code",
   "execution_count": 15,
   "id": "a8e8fa88",
   "metadata": {},
   "outputs": [],
   "source": [
    "tests.append({\n",
    "    'input': {\n",
    "        'puzzle': '5.9...14....3.2.5...7....62394.85.....2.16........3..9..35...9...5..8.....6.39825'\n",
    "    },\n",
    "    'output': '529867143641392758837451962394785216752916384168243579283574691915628437476139825'\n",
    "})"
   ]
  },
  {
   "cell_type": "code",
   "execution_count": 16,
   "id": "57be50ab",
   "metadata": {},
   "outputs": [],
   "source": [
    "tests.append({\n",
    "    'input': {\n",
    "        'puzzle': '2.4.....1......4.63...2.8..7..2.831.....7.2...25.....86..9.....1..8.5.92.92..71..'\n",
    "    },\n",
    "    'output': '284596731951783426376124859769258314813479265425361978638912547147835692592647183'\n",
    "})"
   ]
  },
  {
   "cell_type": "markdown",
   "id": "791becdf",
   "metadata": {},
   "source": [
    "### 3. Come up with a correct solution for the problem. State it in plain English.\n",
    "\n",
    "Our first goal should always be to come up with a _correct_ solution to the problem, which may not necessarily be the most _efficient_ solution. Come with a correct solution and explain it in simple words below:\n",
    "\n",
    "The solution will be a recursive brute force solution\n",
    "\n",
    "1. Get a puzzle string and verify that it contains only valid characters and has the correct length\n",
    "2. Create a matrix from the puzzle string\n",
    "3. Verify that the matrix has a valid layout and doesn't violate any constraints\n",
    "4. Solve the puzzle using the following\n",
    "5. Get the first cell in the puzzle without a value, if all values are filled, return True (Recursion base case)\n",
    "6. For each number from 1 - 9 do the following\n",
    "7. Set the value of the cell to the number\n",
    "8. Verify that the matrix is a valid sudoku layout\n",
    "9. solve the puzzle with the added value\n",
    "10. if we solved the puzzle return True\n",
    "11. Otherwise undo the value that was entered and try again\n",
    "12. If we try all numbers without solving the puzzle, return false\n",
    "13. If we failed to solve the puzzle, return unsolvable\n",
    "14. If the puzzle was solved, convert the matrix back to a string and return the string\n",
    "\n",
    "\n",
    "Let's save and upload our work before continuing.\n",
    "\n",
    "\n"
   ]
  },
  {
   "cell_type": "code",
   "execution_count": 17,
   "id": "d5cfdc51",
   "metadata": {},
   "outputs": [
    {
     "data": {
      "application/javascript": [
       "window.require && require([\"base/js/namespace\"],function(Jupyter){Jupyter.notebook.save_checkpoint()})"
      ],
      "text/plain": [
       "<IPython.core.display.Javascript object>"
      ]
     },
     "metadata": {},
     "output_type": "display_data"
    },
    {
     "name": "stdout",
     "output_type": "stream",
     "text": [
      "[jovian] Updating notebook \"sujithkumar1707/solving-sudoku\" on https://jovian.ai\u001b[0m\n",
      "[jovian] Committed successfully! https://jovian.ai/sujithkumar1707/solving-sudoku\u001b[0m\n"
     ]
    },
    {
     "data": {
      "text/plain": [
       "'https://jovian.ai/sujithkumar1707/solving-sudoku'"
      ]
     },
     "execution_count": 17,
     "metadata": {},
     "output_type": "execute_result"
    }
   ],
   "source": [
    "jovian.commit()"
   ]
  },
  {
   "cell_type": "markdown",
   "id": "08bb236a",
   "metadata": {},
   "source": [
    "###  4. Implement the solution and test it using example inputs. Fix bugs, if any."
   ]
  },
  {
   "cell_type": "code",
   "execution_count": 18,
   "id": "544fd9ed",
   "metadata": {},
   "outputs": [],
   "source": [
    "import re"
   ]
  },
  {
   "cell_type": "code",
   "execution_count": 20,
   "id": "5b6dcb17",
   "metadata": {},
   "outputs": [],
   "source": [
    "def is_valid_length(puzzle):\n",
    "    return len(puzzle) == 81"
   ]
  },
  {
   "cell_type": "code",
   "execution_count": 21,
   "id": "760ab87b",
   "metadata": {},
   "outputs": [],
   "source": [
    "def is_valid_characters(puzzle):\n",
    "    valid_characters = r'^[.1-9]+$'\n",
    "    return re.match(valid_characters, puzzle)"
   ]
  },
  {
   "cell_type": "code",
   "execution_count": 22,
   "id": "6a3fbd21",
   "metadata": {},
   "outputs": [],
   "source": [
    "def board_to_string(board):\n",
    "    board_str = ''\n",
    "    for row in range(len(board)):\n",
    "        for column in range(len(board[row])):\n",
    "            board_str += board[row][column]\n",
    "    return board_str"
   ]
  },
  {
   "cell_type": "code",
   "execution_count": 23,
   "id": "795908cc",
   "metadata": {},
   "outputs": [],
   "source": [
    "def string_to_board(sudoku_str):\n",
    "    board = [[], [], [], [], [], [], [], [], []]\n",
    "    for i in range(81):\n",
    "        row = i // 9\n",
    "        board[row].append(sudoku_str[i])\n",
    "\n",
    "    return board"
   ]
  },
  {
   "cell_type": "code",
   "execution_count": 24,
   "id": "2511e524",
   "metadata": {},
   "outputs": [],
   "source": [
    "def is_valid_sudoku(board):\n",
    "    rows = [[], [], [], [], [], [], [], [], []]\n",
    "    columns = [[], [], [], [], [], [], [], [], []]\n",
    "    regions = [[], [], [], [], [], [], [], [], []]\n",
    "\n",
    "    for row in range(len(board)):\n",
    "        for column in range(len(board[row])):\n",
    "            value = board[row][column]\n",
    "            if value == '.':\n",
    "                continue\n",
    "            region = row // 3 * 3 + column // 3\n",
    "            if value in rows[row] or value in columns[column] or value in regions[region]:\n",
    "                return False\n",
    "            else:\n",
    "                rows[row].append(value)\n",
    "                columns[column].append(value)\n",
    "                regions[region].append(value)\n",
    "    return True"
   ]
  },
  {
   "cell_type": "code",
   "execution_count": 25,
   "id": "a88c2c82",
   "metadata": {},
   "outputs": [],
   "source": [
    "def get_unassigned_cell(grid):\n",
    "    for row in range(len(grid)):\n",
    "        for col in range(len(grid[row])):\n",
    "            if grid[row][col] == '.':\n",
    "                return row, col\n",
    "    return len(grid), len(grid[0])"
   ]
  },
  {
   "cell_type": "code",
   "execution_count": 26,
   "id": "4884692a",
   "metadata": {},
   "outputs": [],
   "source": [
    "def brute_force_solve(grid):\n",
    "    (row, col) = get_unassigned_cell(grid)\n",
    "    if row == 9 and col == 9:\n",
    "        return True\n",
    "\n",
    "    # Try the values from 1 - 10\n",
    "    for value in range(1, 10):\n",
    "        grid[row][col] = str(value)\n",
    "        if is_valid_sudoku(grid):\n",
    "            if brute_force_solve(grid):\n",
    "                return True\n",
    "        grid[row][col] = '.'\n",
    "\n",
    "    # If all values failed, return False\n",
    "    return False"
   ]
  },
  {
   "cell_type": "code",
   "execution_count": 27,
   "id": "967719ae",
   "metadata": {},
   "outputs": [],
   "source": [
    "def solve_sudoku(puzzle):\n",
    "    if not is_valid_characters(puzzle):\n",
    "        return 'invalid characters'\n",
    "\n",
    "    if not is_valid_length(puzzle):\n",
    "        return 'invalid length'\n",
    "    \n",
    "    board = string_to_board(puzzle)\n",
    "\n",
    "    if not is_valid_sudoku(board):\n",
    "        return 'invalid layout'\n",
    "\n",
    "    if brute_force_solve(board):\n",
    "        return board_to_string(board)\n",
    "    else:\n",
    "        return 'unsolvable'"
   ]
  },
  {
   "cell_type": "markdown",
   "id": "d0384461",
   "metadata": {},
   "source": [
    "We can test the function by passing the input to it directly or by using the `evaluate_test_case` function from `jovian`."
   ]
  },
  {
   "cell_type": "code",
   "execution_count": 28,
   "id": "27f46c48",
   "metadata": {},
   "outputs": [],
   "source": [
    "from jovian.pythondsa import evaluate_test_case"
   ]
  },
  {
   "cell_type": "code",
   "execution_count": 29,
   "id": "64b65aa5",
   "metadata": {},
   "outputs": [
    {
     "name": "stdout",
     "output_type": "stream",
     "text": [
      "\n",
      "Input:\n",
      "{'puzzle': '53..7....6..195....98....6.8...6...34..8.3..17...2...6.6....28....419..5....8..79'}\n",
      "\n",
      "Expected Output:\n",
      "534678912672195348198342567859761423426853791713924856961537284287419635345286179\n",
      "\n",
      "\n",
      "Actual Output:\n",
      "534678912672195348198342567859761423426853791713924856961537284287419635345286179\n",
      "\n",
      "Execution Time:\n",
      "1439.03 ms\n",
      "\n",
      "Test Result:\n",
      "\u001b[92mPASSED\u001b[0m\n",
      "\n"
     ]
    },
    {
     "data": {
      "text/plain": [
       "('534678912672195348198342567859761423426853791713924856961537284287419635345286179',\n",
       " True,\n",
       " 1439.03)"
      ]
     },
     "execution_count": 29,
     "metadata": {},
     "output_type": "execute_result"
    }
   ],
   "source": [
    "evaluate_test_case(solve_sudoku, test)"
   ]
  },
  {
   "cell_type": "markdown",
   "id": "74bce4bd",
   "metadata": {},
   "source": [
    "Evaluate your function against all the test cases together using the `evaluate_test_cases` (plural) function from `jovian`."
   ]
  },
  {
   "cell_type": "code",
   "execution_count": 30,
   "id": "54d00233",
   "metadata": {},
   "outputs": [],
   "source": [
    "from jovian.pythondsa import evaluate_test_cases"
   ]
  },
  {
   "cell_type": "code",
   "execution_count": 31,
   "id": "13ca42cd",
   "metadata": {},
   "outputs": [
    {
     "name": "stdout",
     "output_type": "stream",
     "text": [
      "\n",
      "\u001b[1mTEST CASE #0\u001b[0m\n",
      "\n",
      "Input:\n",
      "{'puzzle': '53..7....6..195....98....6.8...6...34..8.3..17...2...6.6....28....419..5....8..79'}\n",
      "\n",
      "Expected Output:\n",
      "534678912672195348198342567859761423426853791713924856961537284287419635345286179\n",
      "\n",
      "\n",
      "Actual Output:\n",
      "534678912672195348198342567859761423426853791713924856961537284287419635345286179\n",
      "\n",
      "Execution Time:\n",
      "1451.404 ms\n",
      "\n",
      "Test Result:\n",
      "\u001b[92mPASSED\u001b[0m\n",
      "\n",
      "\n",
      "\u001b[1mTEST CASE #1\u001b[0m\n",
      "\n",
      "Input:\n",
      "{'puzzle': '8264.95..9.526784343715..626.19427.87925.361434..7125916489532758372419627.316485'}\n",
      "\n",
      "Expected Output:\n",
      "826439571915267843437158962651942738792583614348671259164895327583724196279316485\n",
      "\n",
      "\n",
      "Actual Output:\n",
      "826439571915267843437158962651942738792583614348671259164895327583724196279316485\n",
      "\n",
      "Execution Time:\n",
      "3.358 ms\n",
      "\n",
      "Test Result:\n",
      "\u001b[92mPASSED\u001b[0m\n",
      "\n",
      "\n",
      "\u001b[1mTEST CASE #2\u001b[0m\n",
      "\n",
      "Input:\n",
      "{'puzzle': '5.9...14....3.2.5...7....62394.85.....2.16........3..9..35...9...5..8.....6.39825'}\n",
      "\n",
      "Expected Output:\n",
      "529867143641392758837451962394785216752916384168243579283574691915628437476139825\n",
      "\n",
      "\n",
      "Actual Output:\n",
      "529867143641392758837451962394785216752916384168243579283574691915628437476139825\n",
      "\n",
      "Execution Time:\n",
      "386.947 ms\n",
      "\n",
      "Test Result:\n",
      "\u001b[92mPASSED\u001b[0m\n",
      "\n",
      "\n",
      "\u001b[1mTEST CASE #3\u001b[0m\n",
      "\n",
      "Input:\n",
      "{'puzzle': '9...8...2.869..475.5...6.9..251..8..7.8.236...1..6..2.873....4...9.........35.78.'}\n",
      "\n",
      "Expected Output:\n",
      "937584162286931475451276398625197834798423651314865927873612549569748213142359786\n",
      "\n",
      "\n",
      "Actual Output:\n",
      "937584162286931475451276398625197834798423651314865927873612549569748213142359786\n",
      "\n",
      "Execution Time:\n",
      "409.347 ms\n",
      "\n",
      "Test Result:\n",
      "\u001b[92mPASSED\u001b[0m\n",
      "\n",
      "\n",
      "\u001b[1mTEST CASE #4\u001b[0m\n",
      "\n",
      "Input:\n",
      "{'puzzle': '42....1833........6..3.4.257..15.4.69.2..75.8....6...75...16.422.6.4.8.18.4...76.'}\n",
      "\n",
      "Expected Output:\n",
      "429675183358291674671384925783152496962437518145968237597816342236749851814523769\n",
      "\n",
      "\n",
      "Actual Output:\n",
      "429675183358291674671384925783152496962437518145968237597816342236749851814523769\n",
      "\n",
      "Execution Time:\n",
      "325.173 ms\n",
      "\n",
      "Test Result:\n",
      "\u001b[92mPASSED\u001b[0m\n",
      "\n",
      "\n",
      "\u001b[1mTEST CASE #5\u001b[0m\n",
      "\n",
      "Input:\n",
      "{'puzzle': '5.9...14....3.2.5...7....62394.85.....2.16........3..9..35...9...5..8.....6.39825'}\n",
      "\n",
      "Expected Output:\n",
      "529867143641392758837451962394785216752916384168243579283574691915628437476139825\n",
      "\n",
      "\n",
      "Actual Output:\n",
      "529867143641392758837451962394785216752916384168243579283574691915628437476139825\n",
      "\n",
      "Execution Time:\n",
      "361.242 ms\n",
      "\n",
      "Test Result:\n",
      "\u001b[92mPASSED\u001b[0m\n",
      "\n",
      "\n",
      "\u001b[1mTEST CASE #6\u001b[0m\n",
      "\n",
      "Input:\n",
      "{'puzzle': '2.4.....1......4.63...2.8..7..2.831.....7.2...25.....86..9.....1..8.5.92.92..71..'}\n",
      "\n",
      "Expected Output:\n",
      "284596731951783426376124859769258314813479265425361978638912547147835692592647183\n",
      "\n",
      "\n",
      "Actual Output:\n",
      "284596731951783426376124859769258314813479265425361978638912547147835692592647183\n",
      "\n",
      "Execution Time:\n",
      "4540.625 ms\n",
      "\n",
      "Test Result:\n",
      "\u001b[92mPASSED\u001b[0m\n",
      "\n",
      "\n",
      "\u001b[1mSUMMARY\u001b[0m\n",
      "\n",
      "TOTAL: 7, \u001b[92mPASSED\u001b[0m: 7, \u001b[91mFAILED\u001b[0m: 0\n"
     ]
    },
    {
     "data": {
      "text/plain": [
       "[('534678912672195348198342567859761423426853791713924856961537284287419635345286179',\n",
       "  True,\n",
       "  1451.404),\n",
       " ('826439571915267843437158962651942738792583614348671259164895327583724196279316485',\n",
       "  True,\n",
       "  3.358),\n",
       " ('529867143641392758837451962394785216752916384168243579283574691915628437476139825',\n",
       "  True,\n",
       "  386.947),\n",
       " ('937584162286931475451276398625197834798423651314865927873612549569748213142359786',\n",
       "  True,\n",
       "  409.347),\n",
       " ('429675183358291674671384925783152496962437518145968237597816342236749851814523769',\n",
       "  True,\n",
       "  325.173),\n",
       " ('529867143641392758837451962394785216752916384168243579283574691915628437476139825',\n",
       "  True,\n",
       "  361.242),\n",
       " ('284596731951783426376124859769258314813479265425361978638912547147835692592647183',\n",
       "  True,\n",
       "  4540.625)]"
      ]
     },
     "execution_count": 31,
     "metadata": {},
     "output_type": "execute_result"
    }
   ],
   "source": [
    "evaluate_test_cases(solve_sudoku,tests)"
   ]
  },
  {
   "cell_type": "markdown",
   "id": "c38da017",
   "metadata": {},
   "source": [
    "Verify that all the test cases were evaluated. We expect them all to fail, since we haven't implemented the function yet.\n",
    "\n",
    "Let's save our work before continuing."
   ]
  },
  {
   "cell_type": "code",
   "execution_count": 32,
   "id": "131ad371",
   "metadata": {},
   "outputs": [
    {
     "data": {
      "application/javascript": [
       "window.require && require([\"base/js/namespace\"],function(Jupyter){Jupyter.notebook.save_checkpoint()})"
      ],
      "text/plain": [
       "<IPython.core.display.Javascript object>"
      ]
     },
     "metadata": {},
     "output_type": "display_data"
    },
    {
     "name": "stdout",
     "output_type": "stream",
     "text": [
      "[jovian] Updating notebook \"sujithkumar1707/solving-sudoku\" on https://jovian.ai\u001b[0m\n",
      "[jovian] Committed successfully! https://jovian.ai/sujithkumar1707/solving-sudoku\u001b[0m\n"
     ]
    },
    {
     "data": {
      "text/plain": [
       "'https://jovian.ai/sujithkumar1707/solving-sudoku'"
      ]
     },
     "execution_count": 32,
     "metadata": {},
     "output_type": "execute_result"
    }
   ],
   "source": [
    "jovian.commit()"
   ]
  },
  {
   "cell_type": "code",
   "execution_count": null,
   "id": "2a55761c",
   "metadata": {},
   "outputs": [],
   "source": []
  },
  {
   "cell_type": "markdown",
   "id": "ae5379e7",
   "metadata": {},
   "source": [
    "### 5. Analyze the algorithm's complexity and identify inefficiencies, if any."
   ]
  },
  {
   "cell_type": "markdown",
   "id": "2702965f",
   "metadata": {},
   "source": [
    "For our algorithm's time complexity, let n = number of digits allowed and m = number of blank cells\n",
    "\n",
    "if we work backwards, when $m = 1$ in the worst case we will try $1 \\times n$ time. When $m = 2$, in the worst case we will try $(1 \\times n)(1 \\times n)$ and so on. So our worst case time complexity is $O(n^m)$"
   ]
  },
  {
   "cell_type": "code",
   "execution_count": 33,
   "id": "d953cb56",
   "metadata": {},
   "outputs": [],
   "source": [
    "brute_force_time_complexity = 'O(n ** m)'"
   ]
  },
  {
   "cell_type": "markdown",
   "id": "23bb7803",
   "metadata": {},
   "source": [
    "brute_force_time_complexity = 'O(n ** m)'\n",
    "For the space complexity, the brute force algorithm has a  𝑂(𝑚)  complexity. This is due to the fact that we are using recursion to solve the problem and will need to visit all m blank cells to solve the puzzle. Each recursive call will have a copy of the grid on the stack."
   ]
  },
  {
   "cell_type": "code",
   "execution_count": 34,
   "id": "9c52f09e",
   "metadata": {},
   "outputs": [],
   "source": [
    "brute_force_space_complexity = 'O(m)'"
   ]
  },
  {
   "cell_type": "code",
   "execution_count": 35,
   "id": "e25ba008",
   "metadata": {},
   "outputs": [
    {
     "data": {
      "application/javascript": [
       "window.require && require([\"base/js/namespace\"],function(Jupyter){Jupyter.notebook.save_checkpoint()})"
      ],
      "text/plain": [
       "<IPython.core.display.Javascript object>"
      ]
     },
     "metadata": {},
     "output_type": "display_data"
    },
    {
     "name": "stdout",
     "output_type": "stream",
     "text": [
      "[jovian] Updating notebook \"sujithkumar1707/solving-sudoku\" on https://jovian.ai\u001b[0m\n",
      "[jovian] Committed successfully! https://jovian.ai/sujithkumar1707/solving-sudoku\u001b[0m\n"
     ]
    },
    {
     "data": {
      "text/plain": [
       "'https://jovian.ai/sujithkumar1707/solving-sudoku'"
      ]
     },
     "execution_count": 35,
     "metadata": {},
     "output_type": "execute_result"
    }
   ],
   "source": [
    "jovian.commit()"
   ]
  },
  {
   "cell_type": "markdown",
   "id": "c70b441c",
   "metadata": {},
   "source": [
    "### 6. Apply the right technique to overcome the inefficiency. Repeat steps 3 to 6."
   ]
  },
  {
   "cell_type": "markdown",
   "id": "e39fd68b",
   "metadata": {},
   "source": [
    "In the brute force algorithm, we try every possible value and check if it is a valid value before moving on. Instead of brute forcing the possible values, let's determine the valid values up front and only try them. This reduces the number of choices that we are trying when solving. This also allows us to remove checking if the Sudoku grid is valid for every value as we know we are entering a valid value into the cell."
   ]
  },
  {
   "cell_type": "code",
   "execution_count": 36,
   "id": "a52aa40a",
   "metadata": {},
   "outputs": [
    {
     "data": {
      "application/javascript": [
       "window.require && require([\"base/js/namespace\"],function(Jupyter){Jupyter.notebook.save_checkpoint()})"
      ],
      "text/plain": [
       "<IPython.core.display.Javascript object>"
      ]
     },
     "metadata": {},
     "output_type": "display_data"
    },
    {
     "name": "stdout",
     "output_type": "stream",
     "text": [
      "[jovian] Updating notebook \"sujithkumar1707/solving-sudoku\" on https://jovian.ai\u001b[0m\n",
      "[jovian] Committed successfully! https://jovian.ai/sujithkumar1707/solving-sudoku\u001b[0m\n"
     ]
    },
    {
     "data": {
      "text/plain": [
       "'https://jovian.ai/sujithkumar1707/solving-sudoku'"
      ]
     },
     "execution_count": 36,
     "metadata": {},
     "output_type": "execute_result"
    }
   ],
   "source": [
    "jovian.commit()"
   ]
  },
  {
   "cell_type": "markdown",
   "id": "292d6443",
   "metadata": {},
   "source": [
    "### 7. Come up with a correct solution for the problem. State it in plain English.\n",
    "\n",
    "Come with the optimized correct solution and explain it in simple words below:\n",
    "\n",
    "1. Get a puzzle string and verify that it contains only valid characters and has the correct length\n",
    "2. Create a matrix from the puzzle string\n",
    "3. Verify that the matrix has a valid layout and doesn't violate any constraints\n",
    "4. Solve the puzzle using the following\n",
    "5. Get the first cell in the puzzle without a value, if all cells have a value, return True (Recursion base case)\n",
    "6. For the cell, get the possible values that are valid for that cell\n",
    "7. For each value in the list of valid values, set the cell to that value\n",
    "8. solve the puzzle with the added value\n",
    "9. if we solved the puzzle return True\n",
    "10. Otherwise undo the value that was entered and try again\n",
    "11. If we try all numbers without solving the puzzle, return false\n",
    "12. If we failed to solve the puzzle, return unsolvable\n",
    "13. If the puzzle was solved, convert the matrix back to a string and return the string\n",
    "\n",
    "(add more steps if required)\n",
    "\n",
    "\n",
    "Let's save and upload our work before continuing.\n",
    "\n"
   ]
  },
  {
   "cell_type": "code",
   "execution_count": 37,
   "id": "3d0526f4",
   "metadata": {},
   "outputs": [
    {
     "data": {
      "application/javascript": [
       "window.require && require([\"base/js/namespace\"],function(Jupyter){Jupyter.notebook.save_checkpoint()})"
      ],
      "text/plain": [
       "<IPython.core.display.Javascript object>"
      ]
     },
     "metadata": {},
     "output_type": "display_data"
    },
    {
     "name": "stdout",
     "output_type": "stream",
     "text": [
      "[jovian] Updating notebook \"sujithkumar1707/solving-sudoku\" on https://jovian.ai\u001b[0m\n",
      "[jovian] Committed successfully! https://jovian.ai/sujithkumar1707/solving-sudoku\u001b[0m\n"
     ]
    },
    {
     "data": {
      "text/plain": [
       "'https://jovian.ai/sujithkumar1707/solving-sudoku'"
      ]
     },
     "execution_count": 37,
     "metadata": {},
     "output_type": "execute_result"
    }
   ],
   "source": [
    "jovian.commit()"
   ]
  },
  {
   "cell_type": "code",
   "execution_count": null,
   "id": "631531d0",
   "metadata": {},
   "outputs": [],
   "source": []
  },
  {
   "cell_type": "code",
   "execution_count": null,
   "id": "668d386f",
   "metadata": {},
   "outputs": [],
   "source": []
  },
  {
   "cell_type": "code",
   "execution_count": null,
   "id": "3ee1818a",
   "metadata": {},
   "outputs": [],
   "source": []
  },
  {
   "cell_type": "markdown",
   "id": "3b8618bd",
   "metadata": {},
   "source": [
    "### 8. Implement the solution and test it using example inputs. Fix bugs, if any."
   ]
  },
  {
   "cell_type": "code",
   "execution_count": 38,
   "id": "42ce2161",
   "metadata": {},
   "outputs": [],
   "source": [
    "def get_row(row, grid):\n",
    "    return grid[row]"
   ]
  },
  {
   "cell_type": "code",
   "execution_count": 39,
   "id": "1952012c",
   "metadata": {},
   "outputs": [],
   "source": [
    "def get_region(row, col, grid):\n",
    "    region_rows = row // 3 * 3\n",
    "    region_cols = col // 3 * 3\n",
    "    result = []\n",
    "    for row in range(region_rows, region_rows + 3):\n",
    "        for col in range(region_cols, region_cols + 3):\n",
    "            result.append(grid[row][col])\n",
    "    return result"
   ]
  },
  {
   "cell_type": "code",
   "execution_count": 40,
   "id": "5d7be2b1",
   "metadata": {},
   "outputs": [],
   "source": [
    "def get_column(col, grid):\n",
    "    result = []\n",
    "    for row in range(len(grid)):\n",
    "        result.append(grid[row][col])\n",
    "    return result"
   ]
  },
  {
   "cell_type": "markdown",
   "id": "31369361",
   "metadata": {},
   "source": [
    "#### To return a list of valid values"
   ]
  },
  {
   "cell_type": "code",
   "execution_count": 41,
   "id": "aba82de6",
   "metadata": {},
   "outputs": [],
   "source": [
    "def get_possible_valid_values(row, col, grid):\n",
    "    complete_set = {'1', '2', '3', '4', '5', '6', '7', '8', '9'}\n",
    "    current_values = set(get_row(row, grid) + get_column(col, grid) + get_region(row, col, grid))\n",
    "    current_values.discard('.')\n",
    "    possible_values = current_values.symmetric_difference(complete_set)\n",
    "    return list(possible_values)"
   ]
  },
  {
   "cell_type": "markdown",
   "id": "59fdf6fd",
   "metadata": {},
   "source": [
    "#### Heuristic brute force function"
   ]
  },
  {
   "cell_type": "code",
   "execution_count": 42,
   "id": "190fadd8",
   "metadata": {},
   "outputs": [],
   "source": [
    "def heuristic_solve(grid):\n",
    "    (row, col) = get_unassigned_cell(grid)\n",
    "    if row == 9 and col == 9:\n",
    "        return True\n",
    "\n",
    "    # Try the values from 1 - 10\n",
    "    valid_values = get_possible_valid_values(row, col, grid)\n",
    "    for value in valid_values:\n",
    "        grid[row][col] = str(value)\n",
    "        if heuristic_solve(grid):\n",
    "            return True\n",
    "        grid[row][col] = '.'\n",
    "\n",
    "    # If all values failed, return False\n",
    "    return False"
   ]
  },
  {
   "cell_type": "markdown",
   "id": "a66264f1",
   "metadata": {},
   "source": [
    "#### Main function"
   ]
  },
  {
   "cell_type": "code",
   "execution_count": 43,
   "id": "fd13703f",
   "metadata": {},
   "outputs": [],
   "source": [
    "def solve_sudoku_optimized(puzzle):\n",
    "    if not is_valid_characters(puzzle):\n",
    "        return 'invalid characters'\n",
    "\n",
    "    if not is_valid_length(puzzle):\n",
    "        return 'invalid length'\n",
    "    \n",
    "    board = string_to_board(puzzle)\n",
    "\n",
    "    if not is_valid_sudoku(board):\n",
    "        return 'invalid layout'\n",
    "\n",
    "    if heuristic_solve(board):\n",
    "        return board_to_string(board)\n",
    "    else:\n",
    "        return 'unsolvable'"
   ]
  },
  {
   "cell_type": "code",
   "execution_count": 45,
   "id": "324d99d4",
   "metadata": {},
   "outputs": [
    {
     "name": "stdout",
     "output_type": "stream",
     "text": [
      "\n",
      "\u001b[1mTEST CASE #0\u001b[0m\n",
      "\n",
      "Input:\n",
      "{'puzzle': '53..7....6..195....98....6.8...6...34..8.3..17...2...6.6....28....419..5....8..79'}\n",
      "\n",
      "Expected Output:\n",
      "534678912672195348198342567859761423426853791713924856961537284287419635345286179\n",
      "\n",
      "\n",
      "Actual Output:\n",
      "534678912672195348198342567859761423426853791713924856961537284287419635345286179\n",
      "\n",
      "Execution Time:\n",
      "34.795 ms\n",
      "\n",
      "Test Result:\n",
      "\u001b[92mPASSED\u001b[0m\n",
      "\n",
      "\n",
      "\u001b[1mTEST CASE #1\u001b[0m\n",
      "\n",
      "Input:\n",
      "{'puzzle': '8264.95..9.526784343715..626.19427.87925.361434..7125916489532758372419627.316485'}\n",
      "\n",
      "Expected Output:\n",
      "826439571915267843437158962651942738792583614348671259164895327583724196279316485\n",
      "\n",
      "\n",
      "Actual Output:\n",
      "826439571915267843437158962651942738792583614348671259164895327583724196279316485\n",
      "\n",
      "Execution Time:\n",
      "0.338 ms\n",
      "\n",
      "Test Result:\n",
      "\u001b[92mPASSED\u001b[0m\n",
      "\n",
      "\n",
      "\u001b[1mTEST CASE #2\u001b[0m\n",
      "\n",
      "Input:\n",
      "{'puzzle': '5.9...14....3.2.5...7....62394.85.....2.16........3..9..35...9...5..8.....6.39825'}\n",
      "\n",
      "Expected Output:\n",
      "529867143641392758837451962394785216752916384168243579283574691915628437476139825\n",
      "\n",
      "\n",
      "Actual Output:\n",
      "529867143641392758837451962394785216752916384168243579283574691915628437476139825\n",
      "\n",
      "Execution Time:\n",
      "2.734 ms\n",
      "\n",
      "Test Result:\n",
      "\u001b[92mPASSED\u001b[0m\n",
      "\n",
      "\n",
      "\u001b[1mTEST CASE #3\u001b[0m\n",
      "\n",
      "Input:\n",
      "{'puzzle': '9...8...2.869..475.5...6.9..251..8..7.8.236...1..6..2.873....4...9.........35.78.'}\n",
      "\n",
      "Expected Output:\n",
      "937584162286931475451276398625197834798423651314865927873612549569748213142359786\n",
      "\n",
      "\n",
      "Actual Output:\n",
      "937584162286931475451276398625197834798423651314865927873612549569748213142359786\n",
      "\n",
      "Execution Time:\n",
      "7.564 ms\n",
      "\n",
      "Test Result:\n",
      "\u001b[92mPASSED\u001b[0m\n",
      "\n",
      "\n",
      "\u001b[1mTEST CASE #4\u001b[0m\n",
      "\n",
      "Input:\n",
      "{'puzzle': '42....1833........6..3.4.257..15.4.69.2..75.8....6...75...16.422.6.4.8.18.4...76.'}\n",
      "\n",
      "Expected Output:\n",
      "429675183358291674671384925783152496962437518145968237597816342236749851814523769\n",
      "\n",
      "\n",
      "Actual Output:\n",
      "429675183358291674671384925783152496962437518145968237597816342236749851814523769\n",
      "\n",
      "Execution Time:\n",
      "10.128 ms\n",
      "\n",
      "Test Result:\n",
      "\u001b[92mPASSED\u001b[0m\n",
      "\n",
      "\n",
      "\u001b[1mTEST CASE #5\u001b[0m\n",
      "\n",
      "Input:\n",
      "{'puzzle': '5.9...14....3.2.5...7....62394.85.....2.16........3..9..35...9...5..8.....6.39825'}\n",
      "\n",
      "Expected Output:\n",
      "529867143641392758837451962394785216752916384168243579283574691915628437476139825\n",
      "\n",
      "\n",
      "Actual Output:\n",
      "529867143641392758837451962394785216752916384168243579283574691915628437476139825\n",
      "\n",
      "Execution Time:\n",
      "2.726 ms\n",
      "\n",
      "Test Result:\n",
      "\u001b[92mPASSED\u001b[0m\n",
      "\n",
      "\n",
      "\u001b[1mTEST CASE #6\u001b[0m\n",
      "\n",
      "Input:\n",
      "{'puzzle': '2.4.....1......4.63...2.8..7..2.831.....7.2...25.....86..9.....1..8.5.92.92..71..'}\n",
      "\n",
      "Expected Output:\n",
      "284596731951783426376124859769258314813479265425361978638912547147835692592647183\n",
      "\n",
      "\n",
      "Actual Output:\n",
      "284596731951783426376124859769258314813479265425361978638912547147835692592647183\n",
      "\n",
      "Execution Time:\n",
      "103.751 ms\n",
      "\n",
      "Test Result:\n",
      "\u001b[92mPASSED\u001b[0m\n",
      "\n",
      "\n",
      "\u001b[1mSUMMARY\u001b[0m\n",
      "\n",
      "TOTAL: 7, \u001b[92mPASSED\u001b[0m: 7, \u001b[91mFAILED\u001b[0m: 0\n"
     ]
    }
   ],
   "source": [
    "results=evaluate_test_cases(solve_sudoku_optimized,tests)"
   ]
  },
  {
   "cell_type": "markdown",
   "id": "46c0a8c6",
   "metadata": {},
   "source": [
    "### 9. Analyze the algorithm's complexity and identify inefficiencies, if any."
   ]
  },
  {
   "cell_type": "markdown",
   "id": "c65a9c2b",
   "metadata": {},
   "source": [
    "Our overall worst case time complexity is still considered to be  𝑂(𝑛𝑀)  since we don't and can't know if there is puzzle than can be crafted to hit every worse case option, However, due to the fact that we are eliminating choosing invalid choices up front, this has the effect of pruning the search tree of branches that will lead to failure and improving our overall execution times."
   ]
  },
  {
   "cell_type": "code",
   "execution_count": 46,
   "id": "c12b47c7",
   "metadata": {},
   "outputs": [],
   "source": [
    "heuristic_time_complexity = 'O(n ** m)'"
   ]
  },
  {
   "cell_type": "markdown",
   "id": "46347c16",
   "metadata": {},
   "source": [
    "Our overall space complexity is still  𝑂(𝑚)  since we are still using a recursive algorithm that has a copy of the grid in the stack for each function call."
   ]
  },
  {
   "cell_type": "code",
   "execution_count": 47,
   "id": "2be85a67",
   "metadata": {},
   "outputs": [],
   "source": [
    "heuristic_space_complexity = 'O(m)'"
   ]
  },
  {
   "cell_type": "markdown",
   "id": "41472c60",
   "metadata": {},
   "source": [
    "If you found the problem on an external platform, you can make a submission to test your solution.\n",
    "\n",
    "Share your approach and start a discussion on the Jovian forum: https://jovian.ai/forum/c/data-structures-and-algorithms-in-python/78"
   ]
  },
  {
   "cell_type": "code",
   "execution_count": 48,
   "id": "22521c6e",
   "metadata": {},
   "outputs": [
    {
     "data": {
      "application/javascript": [
       "window.require && require([\"base/js/namespace\"],function(Jupyter){Jupyter.notebook.save_checkpoint()})"
      ],
      "text/plain": [
       "<IPython.core.display.Javascript object>"
      ]
     },
     "metadata": {},
     "output_type": "display_data"
    },
    {
     "name": "stdout",
     "output_type": "stream",
     "text": [
      "[jovian] Updating notebook \"sujithkumar1707/solving-sudoku\" on https://jovian.ai\u001b[0m\n",
      "[jovian] Committed successfully! https://jovian.ai/sujithkumar1707/solving-sudoku\u001b[0m\n"
     ]
    },
    {
     "data": {
      "text/plain": [
       "'https://jovian.ai/sujithkumar1707/solving-sudoku'"
      ]
     },
     "execution_count": 48,
     "metadata": {},
     "output_type": "execute_result"
    }
   ],
   "source": [
    "jovian.commit()"
   ]
  },
  {
   "cell_type": "code",
   "execution_count": null,
   "id": "c83975df",
   "metadata": {},
   "outputs": [
    {
     "data": {
      "application/javascript": [
       "window.require && require([\"base/js/namespace\"],function(Jupyter){Jupyter.notebook.save_checkpoint()})"
      ],
      "text/plain": [
       "<IPython.core.display.Javascript object>"
      ]
     },
     "metadata": {},
     "output_type": "display_data"
    }
   ],
   "source": [
    "jovian.submit(assignment=\"pythondsa-project\")"
   ]
  },
  {
   "cell_type": "code",
   "execution_count": null,
   "id": "ded47275",
   "metadata": {},
   "outputs": [],
   "source": []
  }
 ],
 "metadata": {
  "kernelspec": {
   "display_name": "Python 3",
   "language": "python",
   "name": "python3"
  },
  "language_info": {
   "codemirror_mode": {
    "name": "ipython",
    "version": 3
   },
   "file_extension": ".py",
   "mimetype": "text/x-python",
   "name": "python",
   "nbconvert_exporter": "python",
   "pygments_lexer": "ipython3",
   "version": "3.9.5"
  }
 },
 "nbformat": 4,
 "nbformat_minor": 5
}
